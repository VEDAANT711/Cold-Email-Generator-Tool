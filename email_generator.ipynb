{
 "cells": [
  {
   "cell_type": "code",
   "execution_count": 2,
   "id": "00afb429-2683-4a36-8a21-08e28c50baa0",
   "metadata": {},
   "outputs": [],
   "source": [
    "!pip install -qU langchain_community beautifulsoup4"
   ]
  },
  {
   "cell_type": "code",
   "execution_count": 7,
   "id": "c7e2cf70-f651-4540-8ecd-98f5deacf812",
   "metadata": {},
   "outputs": [
    {
     "name": "stdout",
     "output_type": "stream",
     "text": [
      "Neil Armstrong was the first person to land on the moon. He stepped out of the lunar module Eagle and onto the moon's surface on July 20, 1969, during the Apollo 11 mission.\n"
     ]
    }
   ],
   "source": [
    "from langchain_groq import ChatGroq\n",
    "\n",
    "llm = ChatGroq(\n",
    "    temperature=0,\n",
    "    groq_api_key='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',\n",
    "    model_name=\"llama-3.1-70b-versatile\"\n",
    ")\n",
    "\n",
    "response = llm.invoke(\"first person to land on moon was...\")\n",
    "print(response.content)"
   ]
  },
  {
   "cell_type": "code",
   "execution_count": 5,
   "id": "51280931-25b5-45f2-887e-29fb25119040",
   "metadata": {},
   "outputs": [
    {
     "name": "stdout",
     "output_type": "stream",
     "text": [
      "Apply for Software Engineering Manager, Supply Chain & Planning Technology\n",
      "\n",
      "Search JobsSkip navigationSearch JobsNIKE, INC. JOBSContract JobsJoin The Talent CommunityLife @ NikeOverviewBenefitsBrandsOverviewJordanConverseTeamsOverviewAdministrative SupportAdvanced InnovationAir Manufacturing InnovationAviationCommunicationsCustomer ServiceDesignDigitalFacilitiesFinance & AccountingGovernment & Public AffairsHuman ResourcesInsights & AnalyticsLegalManufacturing & EngineeringMarketingMerchandisingPlanningPrivacyProcurementProduct Creation, Development & ManagementRetail CorporateRetail StoresSalesSocial & Community ImpactSports MarketingStrategic PlanningSupply Chain, Distribution & LogisticsSustainabilityTechnologyLocationsOverviewNike WHQNike New York HQEHQ: Hilversum, The NetherlandsELC: Laakdal, BelgiumGreater China HQDiversity, Equity & InclusionOverviewMilitary InclusionDisability InclusionIndigenous InclusionInternshipsTechnologySoftware Engineering Manager, Supply Chain & Planning TechnologyBeaverton, OregonBecome a Part of the NIKE, Inc. TeamNIKE, Inc. does more than outfit the world’s best athletes. It is a place to explore potential, obliterate boundaries and push out the edges of what can be. The company looks for people who can grow, think, dream and create. Its culture thrives by embracing diversity and rewarding imagination. The brand seeks achievers, leaders and visionaries. At NIKE, Inc. it’s about each person bringing skills and passion to a challenging and constantly evolving game.NIKE is a technology company. From our flagship website and five-star mobile apps to developing products, managing big data and providing leading edge engineering and systems support, our teams at NIKE Global Technology exist to revolutionize the future at the confluence of tech and sport. We invest and develop advances in technology and employ the most creative people in the world, and then give them the support to constantly innovate, iterate and serve consumers more directly and personally.  Our teams are innovative, diverse, multidisciplinary and collaborative, taking technology into the future and bringing the world with it.SUPPLY CHAIN & PLANNING TECHNOLOGY – ENGINEERING MANAGER – DEMAND PLANNING:Become a Part of the NIKE, Inc. TeamNike does more than outfit the world’s best athletes. We are a place to explore potential, obliterate boundaries, and push out the edges of what can be. We’re looking for people who can grow, think, dream, and create. We thrive in a culture that embraces diversity and rewards imagination. We seek achievers, leaders, and visionaries. At Nike, it’s about bringing what you have to a challenging and constantly evolving game.If you’re ready to innovate and lead, it’s time to join Nike’s Global Technology organization. We combine technology and process expertise to deliver one-stop solutions enabling Nike, Inc.'s technical products and services. We are responsible for creating, developing, and deploying seamless, tailored, and inherently social experiences for our consumers. Working with our organization will be rewarding, challenging, and most definitely not be just another job.Who are we looking forAs a Software Engineering Manager for the Demand Planning team, you will join a highly visible engineering team passionate about building demand planning applications that are essential to Nike’s end-to-end planning and supply chain strategy. The successful candidate is an experienced people leader who thrives on solving sophisticated business challenges through technology, teamwork, analysis, and creativityWhat you will work onLead a development team delivering end-to-end technology solutions in support of Assortment Planning and Integrated Business Planning capabilitiesProvide technical leadership and mentorship to the team to ensure conceptual, logical, and integration designs are built following core engineering and architectural principles that meet the supportability, security, and scalability principlesTransform (build/buy/recommend) our technology stack that orchestrates customer engagement journeys with an eye toward optimizing Margins and supporting Nike’s revenue growthRecruit strong engineering talents that represent the diversity of our audience, with clear and consistent hiring strategiesBuild and maintain a culture of modesty, execution excellence, collaboration, mentorship, and open feedbackWho you will work withWorks closely with Planning & Manufacturing leadership to develop Engineering vision, strategy, and execution plans that are aligned with business outcomesPartners with Enterprise Architecture and Strategic Enterprise Capability to develop a sustainable roadmap for Engineering capabilityPartners with Product Management to ensure outcomes are aligned with business expectationsWorks closely with Product Management Organization to translate technical visions into tangible milestone-based plansPartners with Engineering Directors and other Engineering Managers to build a delivery excellence teamWhat you bringA Bachelor's degree in Information Technology, Computer Science, a related field, or equivalent experienceExcellent understanding of business processes in Integrated Enterprise Planning – preferably in Retail and/or Supply Chain8 + years of hands-on experience in any of the packaged Planning solutions development like APO, o9, BlueYonder, solution deployment, and testing with a focus on any of the enterprise planning solutions6+ years of professional experience in enterprise technology solutions including end-to-end Business Blueprinting, development, testing, support, and post-implementation tech solution refinement4+ years' managing, mentoring and coaching 4 or more developers concurrentlyProven experience in Big Data environment such as Hadoop and familiar with modern data technologies such as DatabricksProven experience in implementing enterprise solutions on cloud technologies, such as AWS, Azure, or GCPExceptional collaboration with listening, written and verbal communication skills to effectively interact with both business and technical audiencesComfortable working in a fast-paced and highly matrixed organization environment with ambiguitiesAbility to build positive relationships across Product, Architecture, and Engineering, and influence decisions and changes across loosely coupled teamsNIKE, Inc. is a growth company that looks for team members to grow with it. Nike offers a generous total rewards package, casual work environment, a diverse and inclusive culture, and an electric atmosphere for professional development. No matter the location, or the role, every Nike employee shares one galvanizing mission: To bring inspiration and innovation to every athlete* in the world.NIKE, Inc. is committed to employing a diverse workforce. Qualified applicants will receive consideration without regard to race, color, religion, sex, national origin, age, sexual orientation, gender identity, gender expression, veteran status, or disability.How We HireAt NIKE, Inc. we promise to provide a premium, inclusive, compelling and authentic candidate experience. Delivering on this promise means we allow you to be at your best — and to do that, you need to understand how the hiring process works. Transparency is key.\n",
      "\n",
      "* This overview explains our hiring process for corporate roles. Note there may be different hiring steps involved for non-corporate roles.Start nowBenefitsWhether it’s transportation or financial health, we continually invest in our employees to help them achieve greatness — inside and outside of work. All who work here should be able to realize their full potential.Employee Assistance ProgramEmployee Stock Purchase Plan (ESPP)HolidaysMedical PlanPaid Time Off (PTO)Product DiscountsSabbaticalsLearn moreFIND A STOREBECOME A MEMBERSIGN UP FOR EMAILSEND US FEEDBACKSTUDENT DISCOUNTSGET HELPGET HELPOrder StatusDeliveryReturnsPayment OptionsContact Us On Nike.com InquiriesContact Us On All Other InquiriesABOUT NIKEABOUT NIKENewsCareersInvestorsSustainabilityIndia© 2024 Nike, Inc. All Rights ReservedGuidesNike AdaptNike Air MaxNike FlyleatherNike PegasusNike Zoom FlyNike AirNike FlyEaseNike FreeNike ReactNike ZoomXNike Air Force 1Nike FlyknitNike JoyrideNike VaporflyTerms of SaleTerms of UseNike Privacy Policy\n"
     ]
    }
   ],
   "source": [
    "from langchain_community.document_loaders import WebBaseLoader\n",
    "\n",
    "loader = WebBaseLoader(\"https://jobs.nike.com/job/R-36666\")\n",
    "page_data = loader.load().pop().page_content\n",
    "print(page_data)"
   ]
  },
  {
   "cell_type": "code",
   "execution_count": 13,
   "id": "65bca7ef-ff4c-4c41-b8d0-070ee3fed822",
   "metadata": {},
   "outputs": [
    {
     "name": "stdout",
     "output_type": "stream",
     "text": [
      "```json\n",
      "{\n",
      "  \"role\": \"Software Engineering Manager, Supply Chain & Planning Technology\",\n",
      "  \"experience\": [\n",
      "    \"8 + years of hands-on experience in any of the packaged Planning solutions development like APO, o9, BlueYonder, solution deployment, and testing with a focus on any of the enterprise planning solutions\",\n",
      "    \"6+ years of professional experience in enterprise technology solutions including end-to-end Business Blueprinting, development, testing, support, and post-implementation tech solution refinement\",\n",
      "    \"4+ years' managing, mentoring and coaching 4 or more developers concurrently\"\n",
      "  ],\n",
      "  \"skill\": [\n",
      "    \"Bachelor's degree in Information Technology, Computer Science, a related field, or equivalent experience\",\n",
      "    \"Excellent understanding of business processes in Integrated Enterprise Planning – preferably in Retail and/or Supply Chain\",\n",
      "    \"Proven experience in Big Data environment such as Hadoop and familiar with modern data technologies such as Databricks\",\n",
      "    \"Proven experience in implementing enterprise solutions on cloud technologies, such as AWS, Azure, or GCP\",\n",
      "    \"Exceptional collaboration with listening, written and verbal communication skills to effectively interact with both business and technical audiences\"\n",
      "  ],\n",
      "  \"description\": \"Lead a development team delivering end-to-end technology solutions in support of Assortment Planning and Integrated Business Planning capabilities. Provide technical leadership and mentorship to the team to ensure conceptual, logical, and integration designs are built following core engineering and architectural principles that meet the supportability, security, and scalability principles.\"\n",
      "}\n",
      "```\n"
     ]
    }
   ],
   "source": [
    "from langchain_core.prompts import PromptTemplate\n",
    "\n",
    "prompt_extract = PromptTemplate.from_template(\n",
    "\n",
    "    \"\"\"\n",
    "    ### SCRAPED TEXT FROM WEBSITE \n",
    "    {page_data}\n",
    "    ### INSTRUCTION:\n",
    "    The scraped text is from the career's page of website.\n",
    "    Your job is to extract the job postings and return them in JSON format containing the \n",
    "    following keys : `role`, `experience`, `skill`, `description`.\n",
    "    only return the valid JSON.\n",
    "    ## VALID JSON (NO PREAMBLE):\n",
    "    \"\"\"    \n",
    ")\n",
    "\n",
    "chain_extract = prompt_extract | llm\n",
    "res = chain_extract.invoke(input={'page_data':page_data})\n",
    "print(res.content)\n"
   ]
  },
  {
   "cell_type": "code",
   "execution_count": 17,
   "id": "766a99b9-08c5-4b38-a3ac-47c4966fed0f",
   "metadata": {},
   "outputs": [
    {
     "data": {
      "text/plain": [
       "{'role': 'Software Engineering Manager, Supply Chain & Planning Technology',\n",
       " 'experience': ['8 + years of hands-on experience in any of the packaged Planning solutions development like APO, o9, BlueYonder, solution deployment, and testing with a focus on any of the enterprise planning solutions',\n",
       "  '6+ years of professional experience in enterprise technology solutions including end-to-end Business Blueprinting, development, testing, support, and post-implementation tech solution refinement',\n",
       "  \"4+ years' managing, mentoring and coaching 4 or more developers concurrently\"],\n",
       " 'skill': [\"Bachelor's degree in Information Technology, Computer Science, a related field, or equivalent experience\",\n",
       "  'Excellent understanding of business processes in Integrated Enterprise Planning – preferably in Retail and/or Supply Chain',\n",
       "  'Proven experience in Big Data environment such as Hadoop and familiar with modern data technologies such as Databricks',\n",
       "  'Proven experience in implementing enterprise solutions on cloud technologies, such as AWS, Azure, or GCP',\n",
       "  'Exceptional collaboration with listening, written and verbal communication skills to effectively interact with both business and technical audiences'],\n",
       " 'description': 'Lead a development team delivering end-to-end technology solutions in support of Assortment Planning and Integrated Business Planning capabilities. Provide technical leadership and mentorship to the team to ensure conceptual, logical, and integration designs are built following core engineering and architectural principles that meet the supportability, security, and scalability principles.'}"
      ]
     },
     "execution_count": 17,
     "metadata": {},
     "output_type": "execute_result"
    }
   ],
   "source": [
    "from langchain_core.output_parsers import JsonOutputParser\n",
    "\n",
    "json_parser = JsonOutputParser()\n",
    "json_res = json_parser.parse(res.content)\n",
    "(json_res)"
   ]
  },
  {
   "cell_type": "code",
   "execution_count": 19,
   "id": "6f26c863-53bc-42d7-85ba-57104f393545",
   "metadata": {},
   "outputs": [
    {
     "data": {
      "text/html": [
       "<div>\n",
       "<style scoped>\n",
       "    .dataframe tbody tr th:only-of-type {\n",
       "        vertical-align: middle;\n",
       "    }\n",
       "\n",
       "    .dataframe tbody tr th {\n",
       "        vertical-align: top;\n",
       "    }\n",
       "\n",
       "    .dataframe thead th {\n",
       "        text-align: right;\n",
       "    }\n",
       "</style>\n",
       "<table border=\"1\" class=\"dataframe\">\n",
       "  <thead>\n",
       "    <tr style=\"text-align: right;\">\n",
       "      <th></th>\n",
       "      <th>Repository Name</th>\n",
       "      <th>Repository URL</th>\n",
       "    </tr>\n",
       "  </thead>\n",
       "  <tbody>\n",
       "    <tr>\n",
       "      <th>0</th>\n",
       "      <td>ICC-World-Cup-T20-Data-Analysis-Project</td>\n",
       "      <td>https://github.com/VEDAANT711/ICC-World-Cup-T2...</td>\n",
       "    </tr>\n",
       "    <tr>\n",
       "      <th>1</th>\n",
       "      <td>VedantPortfolio</td>\n",
       "      <td>https://github.com/VEDAANT711/VedantPortfolio</td>\n",
       "    </tr>\n",
       "    <tr>\n",
       "      <th>2</th>\n",
       "      <td>PizzaSales_SQL_Project</td>\n",
       "      <td>https://github.com/VEDAANT711/PizzaSales_SQL_P...</td>\n",
       "    </tr>\n",
       "    <tr>\n",
       "      <th>3</th>\n",
       "      <td>SQL-Python-Project</td>\n",
       "      <td>https://github.com/VEDAANT711/SQL-Python-Project</td>\n",
       "    </tr>\n",
       "    <tr>\n",
       "      <th>4</th>\n",
       "      <td>React</td>\n",
       "      <td>https://github.com/VEDAANT711/React</td>\n",
       "    </tr>\n",
       "    <tr>\n",
       "      <th>5</th>\n",
       "      <td>Zomato-Data-Analysis-Project</td>\n",
       "      <td>https://github.com/VEDAANT711/Zomato-Data-Anal...</td>\n",
       "    </tr>\n",
       "    <tr>\n",
       "      <th>6</th>\n",
       "      <td>VEDAANT711</td>\n",
       "      <td>https://github.com/VEDAANT711/VEDAANT711</td>\n",
       "    </tr>\n",
       "    <tr>\n",
       "      <th>7</th>\n",
       "      <td>PowerBI-Project</td>\n",
       "      <td>https://github.com/VEDAANT711/PowerBI-Project</td>\n",
       "    </tr>\n",
       "    <tr>\n",
       "      <th>8</th>\n",
       "      <td>Javascript_new</td>\n",
       "      <td>https://github.com/VEDAANT711/Javascript_new</td>\n",
       "    </tr>\n",
       "    <tr>\n",
       "      <th>9</th>\n",
       "      <td>PYTHON2</td>\n",
       "      <td>https://github.com/VEDAANT711/PYTHON2</td>\n",
       "    </tr>\n",
       "    <tr>\n",
       "      <th>10</th>\n",
       "      <td>Python_Projects</td>\n",
       "      <td>https://github.com/VEDAANT711/Python_Projects</td>\n",
       "    </tr>\n",
       "    <tr>\n",
       "      <th>11</th>\n",
       "      <td>SQL</td>\n",
       "      <td>https://github.com/VEDAANT711/SQL</td>\n",
       "    </tr>\n",
       "    <tr>\n",
       "      <th>12</th>\n",
       "      <td>Data-Science</td>\n",
       "      <td>https://github.com/VEDAANT711/Data-Science</td>\n",
       "    </tr>\n",
       "    <tr>\n",
       "      <th>13</th>\n",
       "      <td>GRIP-TASK</td>\n",
       "      <td>https://github.com/VEDAANT711/GRIP-TASK</td>\n",
       "    </tr>\n",
       "    <tr>\n",
       "      <th>14</th>\n",
       "      <td>SDP_1-vedant-gaikwad</td>\n",
       "      <td>https://github.com/VEDAANT711/SDP_1-vedant-gai...</td>\n",
       "    </tr>\n",
       "  </tbody>\n",
       "</table>\n",
       "</div>"
      ],
      "text/plain": [
       "                            Repository Name  \\\n",
       "0   ICC-World-Cup-T20-Data-Analysis-Project   \n",
       "1                           VedantPortfolio   \n",
       "2                    PizzaSales_SQL_Project   \n",
       "3                        SQL-Python-Project   \n",
       "4                                     React   \n",
       "5              Zomato-Data-Analysis-Project   \n",
       "6                                VEDAANT711   \n",
       "7                           PowerBI-Project   \n",
       "8                            Javascript_new   \n",
       "9                                   PYTHON2   \n",
       "10                          Python_Projects   \n",
       "11                                      SQL   \n",
       "12                             Data-Science   \n",
       "13                                GRIP-TASK   \n",
       "14                     SDP_1-vedant-gaikwad   \n",
       "\n",
       "                                       Repository URL  \n",
       "0   https://github.com/VEDAANT711/ICC-World-Cup-T2...  \n",
       "1       https://github.com/VEDAANT711/VedantPortfolio  \n",
       "2   https://github.com/VEDAANT711/PizzaSales_SQL_P...  \n",
       "3    https://github.com/VEDAANT711/SQL-Python-Project  \n",
       "4                 https://github.com/VEDAANT711/React  \n",
       "5   https://github.com/VEDAANT711/Zomato-Data-Anal...  \n",
       "6            https://github.com/VEDAANT711/VEDAANT711  \n",
       "7       https://github.com/VEDAANT711/PowerBI-Project  \n",
       "8        https://github.com/VEDAANT711/Javascript_new  \n",
       "9               https://github.com/VEDAANT711/PYTHON2  \n",
       "10      https://github.com/VEDAANT711/Python_Projects  \n",
       "11                  https://github.com/VEDAANT711/SQL  \n",
       "12         https://github.com/VEDAANT711/Data-Science  \n",
       "13            https://github.com/VEDAANT711/GRIP-TASK  \n",
       "14  https://github.com/VEDAANT711/SDP_1-vedant-gai...  "
      ]
     },
     "execution_count": 19,
     "metadata": {},
     "output_type": "execute_result"
    }
   ],
   "source": [
    "import pandas as pd\n",
    "df = pd.read_csv(\"VEDAANT711_github_repos.csv\")\n",
    "df                 "
   ]
  },
  {
   "cell_type": "code",
   "execution_count": 27,
   "id": "a830b075-6cc7-4666-a59f-c5754061b333",
   "metadata": {},
   "outputs": [],
   "source": [
    "import chromadb\n",
    "import uuid\n",
    "\n",
    "client = chromadb.PersistentClient('vectorstore')\n",
    "collection = client.get_or_create_collection(name = \"VEDAANT711_github_repos\")\n",
    "\n",
    "if not collection.count():\n",
    "    for _, row in df.iterrows():\n",
    "        collection.add(documents=row[\"Repository Name\"],\n",
    "                       metadatas = {\"links\": row[\"Repository URL\"]},\n",
    "                       ids=[str(uuid.uuid4())])     "
   ]
  },
  {
   "cell_type": "code",
   "execution_count": 49,
   "id": "4c41c606-53c8-4607-9259-9165c933cddb",
   "metadata": {},
   "outputs": [
    {
     "data": {
      "text/plain": [
       "[[{'links': 'https://github.com/VEDAANT711/Data-Science'},\n",
       "  {'links': 'https://github.com/VEDAANT711/SQL'}],\n",
       " [{'links': 'https://github.com/VEDAANT711/SQL'},\n",
       "  {'links': 'https://github.com/VEDAANT711/Data-Science'}],\n",
       " [{'links': 'https://github.com/VEDAANT711/Data-Science'},\n",
       "  {'links': 'https://github.com/VEDAANT711/PowerBI-Project'}],\n",
       " [{'links': 'https://github.com/VEDAANT711/Data-Science'},\n",
       "  {'links': 'https://github.com/VEDAANT711/PowerBI-Project'}],\n",
       " [{'links': 'https://github.com/VEDAANT711/Data-Science'},\n",
       "  {'links': 'https://github.com/VEDAANT711/GRIP-TASK'}]]"
      ]
     },
     "execution_count": 49,
     "metadata": {},
     "output_type": "execute_result"
    }
   ],
   "source": [
    "links = collection.query(query_texts = job['skill'], n_results=2).get('metadatas', [])\n",
    "links"
   ]
  },
  {
   "cell_type": "code",
   "execution_count": 50,
   "id": "1259c55e-a88f-499f-8dc6-16659f629bef",
   "metadata": {},
   "outputs": [
    {
     "data": {
      "text/plain": [
       "[\"Bachelor's degree in Information Technology, Computer Science, a related field, or equivalent experience\",\n",
       " 'Excellent understanding of business processes in Integrated Enterprise Planning – preferably in Retail and/or Supply Chain',\n",
       " 'Proven experience in Big Data environment such as Hadoop and familiar with modern data technologies such as Databricks',\n",
       " 'Proven experience in implementing enterprise solutions on cloud technologies, such as AWS, Azure, or GCP',\n",
       " 'Exceptional collaboration with listening, written and verbal communication skills to effectively interact with both business and technical audiences']"
      ]
     },
     "execution_count": 50,
     "metadata": {},
     "output_type": "execute_result"
    }
   ],
   "source": [
    "job = json_res\n",
    "job['skill']"
   ]
  },
  {
   "cell_type": "code",
   "execution_count": 57,
   "id": "7659cf27-69e4-4ae1-b5fd-2896209d359c",
   "metadata": {},
   "outputs": [
    {
     "name": "stdout",
     "output_type": "stream",
     "text": [
      "Subject: Expressed Interest in Exploring Opportunities at Nike\n",
      "\n",
      "Dear Hiring Manager,\n",
      "\n",
      "I am Vedant Gaikwad, a highly motivated and detail-oriented professional with a strong passion for technology and innovation. As a recent graduate with a degree in Information Technology, I am excited to apply my skills and knowledge to a dynamic and forward-thinking company like Nike.\n",
      "\n",
      "With a solid foundation in programming languages such as Python, I have developed a keen interest in data analysis, machine learning, and web development. My proficiency in SQL has enabled me to effectively manage and analyze large datasets, while my experience with Power BI has allowed me to create interactive and informative visualizations. I am confident that my skills align with the company's needs, particularly in the realm of data-driven decision-making.\n",
      "\n",
      "I am impressed by Nike's commitment to innovation and its dedication to using technology to drive business growth. I am excited about the prospect of joining a team that shares my passion for technology and is committed to making a positive impact.\n",
      "\n",
      "I would welcome the opportunity to discuss my qualifications further and explore potential roles within the company. I have attached a link to my portfolio, which showcases my projects and demonstrates my skills in data analysis, machine learning, and web development.\n",
      "\n",
      "Portfolio:\n",
      "\n",
      "- Data Science: https://github.com/VEDAANT711/Data-Science\n",
      "- SQL: https://github.com/VEDAANT711/SQL\n",
      "- Power BI Project: https://github.com/VEDAANT711/PowerBI-Project\n",
      "- GRIP Task: https://github.com/VEDAANT711/GRIP-TASK\n",
      "\n",
      "I am particularly drawn to the Software Engineering Manager, Supply Chain & Planning Technology role, as it aligns with my interests in data analysis and technology. However, I am open to discussing other opportunities that may be a good fit for my skills and experience.\n",
      "\n",
      "Thank you for considering my application. I look forward to the opportunity to discuss my qualifications further and learn more about the company's vision and goals.\n",
      "\n",
      "Best regards,\n",
      "\n",
      "Vedant Gaikwad\n"
     ]
    }
   ],
   "source": [
    "prompt_email = PromptTemplate.from_template(\n",
    "    \"\"\"\n",
    "    #JOB DESCRIPTION:\n",
    "    {job_description}\n",
    "\n",
    "    ##INSTRUCTION:\n",
    "    Your task is to compose a professional cold email addressed to an Hiring manager nike regarding potential \n",
    "    job opportunities. The email should introduce the candidate, Vedant Gaikwad, \n",
    "    and emphasize his key skills(fresher -1 yr), including expertise in Python, SQL, data analysis with \n",
    "    tools like Power BI, machine learning, and web development. The email should demonstrate genuine interest \n",
    "    in discussing relevant roles, and articulate how the candidate’s experience and qualifications align with the company's needs. \n",
    "    The tone should be courteous, concise, and focused on encouraging a positive response from the recruiter. \n",
    "    also showcase my portfolio : {link_list}\n",
    "    Do not provide a preamble.\n",
    "    ###EMAIL (NO PREAMBLE):\n",
    "    \n",
    "    \"\"\"    \n",
    ")\n",
    "\n",
    "chain_email = prompt_email | llm\n",
    "res = chain_email.invoke({\"job_description\":str(job), \"link_list\":links})\n",
    "print(res.content)"
   ]
  },
  {
   "cell_type": "code",
   "execution_count": null,
   "id": "b019b2c4-4f37-42ab-bef1-be1c50f9b5f6",
   "metadata": {},
   "outputs": [],
   "source": []
  }
 ],
 "metadata": {
  "kernelspec": {
   "display_name": "Python 3 (ipykernel)",
   "language": "python",
   "name": "python3"
  },
  "language_info": {
   "codemirror_mode": {
    "name": "ipython",
    "version": 3
   },
   "file_extension": ".py",
   "mimetype": "text/x-python",
   "name": "python",
   "nbconvert_exporter": "python",
   "pygments_lexer": "ipython3",
   "version": "3.12.1"
  },
  "widgets": {
   "application/vnd.jupyter.widget-state+json": {
    "state": {},
    "version_major": 2,
    "version_minor": 0
   }
  }
 },
 "nbformat": 4,
 "nbformat_minor": 5
}
