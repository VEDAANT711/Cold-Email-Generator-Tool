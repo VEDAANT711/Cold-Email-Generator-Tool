{
 "cells": [
  {
   "cell_type": "code",
   "execution_count": 3,
   "id": "197b2b77-79e0-4199-a1a0-239ccdfa2399",
   "metadata": {},
   "outputs": [],
   "source": [
    "import requests\n",
    "from bs4 import BeautifulSoup\n",
    "import csv"
   ]
  },
  {
   "cell_type": "code",
   "execution_count": 4,
   "id": "ab9cec60-eed3-4ba3-aec6-4ee0d41d241c",
   "metadata": {},
   "outputs": [],
   "source": [
    "# GitHub URL for Vedant's repositories\n",
    "url = 'https://github.com/VEDAANT711?tab=repositories'"
   ]
  },
  {
   "cell_type": "code",
   "execution_count": 5,
   "id": "a4fe1dc1-e04f-4c15-b51a-663679ca467c",
   "metadata": {},
   "outputs": [],
   "source": [
    "# Send a GET request to the GitHub repositories page\n",
    "response = requests.get(url)\n"
   ]
  },
  {
   "cell_type": "code",
   "execution_count": 6,
   "id": "70cc5b5a-2da9-4be3-aa9f-2338c0215e45",
   "metadata": {},
   "outputs": [],
   "source": [
    "# Parse the HTML content using BeautifulSoup\n",
    "soup = BeautifulSoup(response.content, 'html.parser')\n"
   ]
  },
  {
   "cell_type": "code",
   "execution_count": 7,
   "id": "51193b64-9611-45e8-be6f-b1255638eb41",
   "metadata": {},
   "outputs": [],
   "source": [
    "# Prepare a list to store repo names and URLs\n",
    "repo_list = []\n"
   ]
  },
  {
   "cell_type": "code",
   "execution_count": 8,
   "id": "c2d53b01-2647-4841-9ede-7dce7b8044b8",
   "metadata": {},
   "outputs": [],
   "source": [
    "for repo in repos:\n",
    "    repo_name = repo.text.strip()\n",
    "    repo_url = 'https://github.com' + repo['href']\n",
    "    repo_list.append([repo_name, repo_url])"
   ]
  },
  {
   "cell_type": "code",
   "execution_count": 9,
   "id": "cd42bd8e-3ea3-468a-8d79-3a908544ea40",
   "metadata": {},
   "outputs": [],
   "source": [
    "# Define the CSV filename\n",
    "csv_filename = 'VEDAANT711_github_repos.csv'\n"
   ]
  },
  {
   "cell_type": "code",
   "execution_count": 10,
   "id": "1400feae-19df-4660-a095-d98f457abf0d",
   "metadata": {},
   "outputs": [],
   "source": [
    "# Write the data to a CSV file\n",
    "with open(csv_filename, mode='w', newline='', encoding='utf-8') as file:\n",
    "    writer = csv.writer(file)\n",
    "    writer.writerow(['Repository Name', 'Repository URL'])  # CSV header\n",
    "    writer.writerows(repo_list)"
   ]
  },
  {
   "cell_type": "code",
   "execution_count": 11,
   "id": "60f77f17-06eb-45db-915c-2638281ae812",
   "metadata": {},
   "outputs": [
    {
     "name": "stdout",
     "output_type": "stream",
     "text": [
      "CSV file \"VEDAANT711_github_repos.csv\" created successfully with repo names and URLs!\n"
     ]
    }
   ],
   "source": [
    "print(f'CSV file \"{csv_filename}\" created successfully with repo names and URLs!')"
   ]
  }
 ],
 "metadata": {
  "kernelspec": {
   "display_name": "Python 3 (ipykernel)",
   "language": "python",
   "name": "python3"
  },
  "language_info": {
   "codemirror_mode": {
    "name": "ipython",
    "version": 3
   },
   "file_extension": ".py",
   "mimetype": "text/x-python",
   "name": "python",
   "nbconvert_exporter": "python",
   "pygments_lexer": "ipython3",
   "version": "3.8.19"
  },
  "widgets": {
   "application/vnd.jupyter.widget-state+json": {
    "state": {},
    "version_major": 2,
    "version_minor": 0
   }
  }
 },
 "nbformat": 4,
 "nbformat_minor": 5
}
