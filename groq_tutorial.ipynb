{
 "cells": [
  {
   "cell_type": "code",
   "execution_count": 1,
   "id": "1254ef34-1f2e-4ebb-b243-d2062fe80c75",
   "metadata": {},
   "outputs": [
    {
     "name": "stdout",
     "output_type": "stream",
     "text": [
      "Python 3.8.19\n"
     ]
    }
   ],
   "source": [
    "!python --version"
   ]
  },
  {
   "cell_type": "code",
   "execution_count": 2,
   "id": "70a995b2-6123-4da8-bad9-c2086230453b",
   "metadata": {},
   "outputs": [
    {
     "name": "stdout",
     "output_type": "stream",
     "text": [
      "Name: groqflow\n",
      "Version: 4.3.1\n",
      "Summary: GroqFlow toolchain library\n",
      "Home-page: https://github.com/groq/groqflow\n",
      "Author: Groq\n",
      "Author-email: sales@groq.com\n",
      "License: MIT\n",
      "Location: f:\\conda\\envs\\groqflow-env\\lib\\site-packages\n",
      "Requires: mlagility, onnx, onnxruntime, protobuf, scikit-learn, torch, typeguard\n",
      "Required-by: \n"
     ]
    }
   ],
   "source": [
    "!pip show groqflow"
   ]
  },
  {
   "cell_type": "code",
   "execution_count": 3,
   "id": "2c230998-06c4-42f8-9ece-8ab62d8c6f71",
   "metadata": {},
   "outputs": [],
   "source": [
    "!pip install -qU langchain-groq"
   ]
  },
  {
   "cell_type": "code",
   "execution_count": 7,
   "id": "2d76aa9d-13de-4f1c-95cd-6035f607d724",
   "metadata": {},
   "outputs": [
    {
     "name": "stdout",
     "output_type": "stream",
     "text": [
      "Neil Armstrong was the first person to land on the moon. He stepped out of the lunar module Eagle and onto the moon's surface on July 20, 1969, during the Apollo 11 mission.\n"
     ]
    }
   ],
   "source": [
    "from langchain_groq import ChatGroq\n",
    "\n",
    "llm = ChatGroq(\n",
    "    temperature=0,\n",
    "    groq_api_key='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',\n",
    "    model_name=\"llama-3.1-70b-versatile\"\n",
    ")\n",
    "\n",
    "response = llm.invoke(\"first person to land on moon was...\")\n",
    "print(response.content)"
   ]
  },
  {
   "cell_type": "code",
   "execution_count": null,
   "id": "48edf553-3395-4d8e-b431-17031e73e128",
   "metadata": {},
   "outputs": [],
   "source": []
  }
 ],
 "metadata": {
  "kernelspec": {
   "display_name": "Python 3 (ipykernel)",
   "language": "python",
   "name": "python3"
  },
  "language_info": {
   "codemirror_mode": {
    "name": "ipython",
    "version": 3
   },
   "file_extension": ".py",
   "mimetype": "text/x-python",
   "name": "python",
   "nbconvert_exporter": "python",
   "pygments_lexer": "ipython3",
   "version": "3.12.1"
  },
  "widgets": {
   "application/vnd.jupyter.widget-state+json": {
    "state": {},
    "version_major": 2,
    "version_minor": 0
   }
  }
 },
 "nbformat": 4,
 "nbformat_minor": 5
}
