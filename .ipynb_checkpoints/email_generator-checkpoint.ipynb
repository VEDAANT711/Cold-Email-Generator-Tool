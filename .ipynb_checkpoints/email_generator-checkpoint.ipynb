{
 "cells": [
  {
   "cell_type": "code",
   "execution_count": 2,
   "id": "00afb429-2683-4a36-8a21-08e28c50baa0",
   "metadata": {},
   "outputs": [],
   "source": [
    "!pip install -qU langchain_community beautifulsoup4"
   ]
  },
  {
   "cell_type": "code",
   "execution_count": 5,
   "id": "51280931-25b5-45f2-887e-29fb25119040",
   "metadata": {},
   "outputs": [
    {
     "name": "stdout",
     "output_type": "stream",
     "text": [
      "Apply for Software Engineering Manager, Supply Chain & Planning Technology\n",
      "\n",
      "Search JobsSkip navigationSearch JobsNIKE, INC. JOBSContract JobsJoin The Talent CommunityLife @ NikeOverviewBenefitsBrandsOverviewJordanConverseTeamsOverviewAdministrative SupportAdvanced InnovationAir Manufacturing InnovationAviationCommunicationsCustomer ServiceDesignDigitalFacilitiesFinance & AccountingGovernment & Public AffairsHuman ResourcesInsights & AnalyticsLegalManufacturing & EngineeringMarketingMerchandisingPlanningPrivacyProcurementProduct Creation, Development & ManagementRetail CorporateRetail StoresSalesSocial & Community ImpactSports MarketingStrategic PlanningSupply Chain, Distribution & LogisticsSustainabilityTechnologyLocationsOverviewNike WHQNike New York HQEHQ: Hilversum, The NetherlandsELC: Laakdal, BelgiumGreater China HQDiversity, Equity & InclusionOverviewMilitary InclusionDisability InclusionIndigenous InclusionInternshipsTechnologySoftware Engineering Manager, Supply Chain & Planning TechnologyBeaverton, OregonBecome a Part of the NIKE, Inc. TeamNIKE, Inc. does more than outfit the world’s best athletes. It is a place to explore potential, obliterate boundaries and push out the edges of what can be. The company looks for people who can grow, think, dream and create. Its culture thrives by embracing diversity and rewarding imagination. The brand seeks achievers, leaders and visionaries. At NIKE, Inc. it’s about each person bringing skills and passion to a challenging and constantly evolving game.NIKE is a technology company. From our flagship website and five-star mobile apps to developing products, managing big data and providing leading edge engineering and systems support, our teams at NIKE Global Technology exist to revolutionize the future at the confluence of tech and sport. We invest and develop advances in technology and employ the most creative people in the world, and then give them the support to constantly innovate, iterate and serve consumers more directly and personally.  Our teams are innovative, diverse, multidisciplinary and collaborative, taking technology into the future and bringing the world with it.SUPPLY CHAIN & PLANNING TECHNOLOGY – ENGINEERING MANAGER – DEMAND PLANNING:Become a Part of the NIKE, Inc. TeamNike does more than outfit the world’s best athletes. We are a place to explore potential, obliterate boundaries, and push out the edges of what can be. We’re looking for people who can grow, think, dream, and create. We thrive in a culture that embraces diversity and rewards imagination. We seek achievers, leaders, and visionaries. At Nike, it’s about bringing what you have to a challenging and constantly evolving game.If you’re ready to innovate and lead, it’s time to join Nike’s Global Technology organization. We combine technology and process expertise to deliver one-stop solutions enabling Nike, Inc.'s technical products and services. We are responsible for creating, developing, and deploying seamless, tailored, and inherently social experiences for our consumers. Working with our organization will be rewarding, challenging, and most definitely not be just another job.Who are we looking forAs a Software Engineering Manager for the Demand Planning team, you will join a highly visible engineering team passionate about building demand planning applications that are essential to Nike’s end-to-end planning and supply chain strategy. The successful candidate is an experienced people leader who thrives on solving sophisticated business challenges through technology, teamwork, analysis, and creativityWhat you will work onLead a development team delivering end-to-end technology solutions in support of Assortment Planning and Integrated Business Planning capabilitiesProvide technical leadership and mentorship to the team to ensure conceptual, logical, and integration designs are built following core engineering and architectural principles that meet the supportability, security, and scalability principlesTransform (build/buy/recommend) our technology stack that orchestrates customer engagement journeys with an eye toward optimizing Margins and supporting Nike’s revenue growthRecruit strong engineering talents that represent the diversity of our audience, with clear and consistent hiring strategiesBuild and maintain a culture of modesty, execution excellence, collaboration, mentorship, and open feedbackWho you will work withWorks closely with Planning & Manufacturing leadership to develop Engineering vision, strategy, and execution plans that are aligned with business outcomesPartners with Enterprise Architecture and Strategic Enterprise Capability to develop a sustainable roadmap for Engineering capabilityPartners with Product Management to ensure outcomes are aligned with business expectationsWorks closely with Product Management Organization to translate technical visions into tangible milestone-based plansPartners with Engineering Directors and other Engineering Managers to build a delivery excellence teamWhat you bringA Bachelor's degree in Information Technology, Computer Science, a related field, or equivalent experienceExcellent understanding of business processes in Integrated Enterprise Planning – preferably in Retail and/or Supply Chain8 + years of hands-on experience in any of the packaged Planning solutions development like APO, o9, BlueYonder, solution deployment, and testing with a focus on any of the enterprise planning solutions6+ years of professional experience in enterprise technology solutions including end-to-end Business Blueprinting, development, testing, support, and post-implementation tech solution refinement4+ years' managing, mentoring and coaching 4 or more developers concurrentlyProven experience in Big Data environment such as Hadoop and familiar with modern data technologies such as DatabricksProven experience in implementing enterprise solutions on cloud technologies, such as AWS, Azure, or GCPExceptional collaboration with listening, written and verbal communication skills to effectively interact with both business and technical audiencesComfortable working in a fast-paced and highly matrixed organization environment with ambiguitiesAbility to build positive relationships across Product, Architecture, and Engineering, and influence decisions and changes across loosely coupled teamsNIKE, Inc. is a growth company that looks for team members to grow with it. Nike offers a generous total rewards package, casual work environment, a diverse and inclusive culture, and an electric atmosphere for professional development. No matter the location, or the role, every Nike employee shares one galvanizing mission: To bring inspiration and innovation to every athlete* in the world.NIKE, Inc. is committed to employing a diverse workforce. Qualified applicants will receive consideration without regard to race, color, religion, sex, national origin, age, sexual orientation, gender identity, gender expression, veteran status, or disability.How We HireAt NIKE, Inc. we promise to provide a premium, inclusive, compelling and authentic candidate experience. Delivering on this promise means we allow you to be at your best — and to do that, you need to understand how the hiring process works. Transparency is key.\n",
      "\n",
      "* This overview explains our hiring process for corporate roles. Note there may be different hiring steps involved for non-corporate roles.Start nowBenefitsWhether it’s transportation or financial health, we continually invest in our employees to help them achieve greatness — inside and outside of work. All who work here should be able to realize their full potential.Employee Assistance ProgramEmployee Stock Purchase Plan (ESPP)HolidaysMedical PlanPaid Time Off (PTO)Product DiscountsSabbaticalsLearn moreFIND A STOREBECOME A MEMBERSIGN UP FOR EMAILSEND US FEEDBACKSTUDENT DISCOUNTSGET HELPGET HELPOrder StatusDeliveryReturnsPayment OptionsContact Us On Nike.com InquiriesContact Us On All Other InquiriesABOUT NIKEABOUT NIKENewsCareersInvestorsSustainabilityIndia© 2024 Nike, Inc. All Rights ReservedGuidesNike AdaptNike Air MaxNike FlyleatherNike PegasusNike Zoom FlyNike AirNike FlyEaseNike FreeNike ReactNike ZoomXNike Air Force 1Nike FlyknitNike JoyrideNike VaporflyTerms of SaleTerms of UseNike Privacy Policy\n"
     ]
    }
   ],
   "source": [
    "from langchain_community.document_loaders import WebBaseLoader\n",
    "\n",
    "loader = WebBaseLoader(\"https://jobs.nike.com/job/R-36666\")\n",
    "page_data = loader.load().pop().page_content\n",
    "print(page_data)"
   ]
  },
  {
   "cell_type": "code",
   "execution_count": null,
   "id": "65bca7ef-ff4c-4c41-b8d0-070ee3fed822",
   "metadata": {},
   "outputs": [],
   "source": [
    "from langchain_core.prompts import PromptTemplate\n",
    "\n",
    "prompt_extract = PromptTemplate.from_template(\n",
    "\n",
    "    \"\"\"\n",
    "    ### SCRAPED TEXT FROM WEBSITE \n",
    "    {page_data}\n",
    "    ### INSTRUCTION:\n",
    "    The scraped text is from the career's page of website.\n",
    "    Your job is to extract the job postings and return them in JSON format containing the \n",
    "    following keys : `role`, `experience`, `skill`, `description`.\n",
    "    only return the valid JSON.\n",
    "    ## VALID JSON (NO PREAMBLE):\n",
    "    \"\"\"    \n",
    ")\n",
    "\n",
    "chain \n"
   ]
  },
  {
   "cell_type": "code",
   "execution_count": null,
   "id": "766a99b9-08c5-4b38-a3ac-47c4966fed0f",
   "metadata": {},
   "outputs": [],
   "source": []
  },
  {
   "cell_type": "code",
   "execution_count": null,
   "id": "6f26c863-53bc-42d7-85ba-57104f393545",
   "metadata": {},
   "outputs": [],
   "source": []
  },
  {
   "cell_type": "code",
   "execution_count": null,
   "id": "a830b075-6cc7-4666-a59f-c5754061b333",
   "metadata": {},
   "outputs": [],
   "source": []
  }
 ],
 "metadata": {
  "kernelspec": {
   "display_name": "Python 3 (ipykernel)",
   "language": "python",
   "name": "python3"
  },
  "language_info": {
   "codemirror_mode": {
    "name": "ipython",
    "version": 3
   },
   "file_extension": ".py",
   "mimetype": "text/x-python",
   "name": "python",
   "nbconvert_exporter": "python",
   "pygments_lexer": "ipython3",
   "version": "3.8.19"
  },
  "widgets": {
   "application/vnd.jupyter.widget-state+json": {
    "state": {},
    "version_major": 2,
    "version_minor": 0
   }
  }
 },
 "nbformat": 4,
 "nbformat_minor": 5
}
